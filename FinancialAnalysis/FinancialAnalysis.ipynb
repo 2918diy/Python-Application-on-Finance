{
 "cells": [
  {
   "cell_type": "code",
   "execution_count": null,
   "metadata": {
    "collapsed": true
   },
   "outputs": [],
   "source": [
    "import pandas as pd\n",
    "import xlrd\n",
    "import datetime\n",
    "import numpy as np\n",
    "import time"
   ]
  },
  {
   "cell_type": "code",
   "execution_count": null,
   "metadata": {
    "collapsed": true
   },
   "outputs": [],
   "source": [
    "def read_excel_workbook(path):\n",
    "    workbook = xlrd.open_workbook(path)\n",
    "    sheet = workbook.sheet_by_index(0)\n",
    "    data = {}\n",
    "    for i in range(sheet.ncols):\n",
    "        # 按列读取数据，第一个数据是列的的名字,剩下的数据是列的值\n",
    "        h, *rest = sheet.col_values(i)\n",
    "        data[h] = rest\n",
    "    frame = pd.DataFrame(data)\n",
    "    return frame"
   ]
  },
  {
   "cell_type": "code",
   "execution_count": null,
   "metadata": {
    "collapsed": true
   },
   "outputs": [],
   "source": [
    "def ChangeDateFormat(x):\n",
    "    if x.count('/')>0:\n",
    "        dt = time.strptime(x,'%Y/%m/%d')\n",
    "    elif x.count('-')>0:\n",
    "        dt = time.strptime(x,'%Y-%m-%d')\n",
    "    dtStamp = time.mktime(dt)\n",
    "    dtDateTime = datetime.datetime.fromtimestamp(dtStamp)\n",
    "    return dtDateTime"
   ]
  },
  {
   "cell_type": "code",
   "execution_count": null,
   "metadata": {
    "collapsed": true
   },
   "outputs": [],
   "source": [
    "startDateString = '2018-01-01'\n",
    "startTime = time.strptime(startDateString,'%Y-%m-%d')\n",
    "startTimeStamp = time.mktime(startTime)\n",
    "startDateTime = datetime.datetime.fromtimestamp(startTimeStamp)\n",
    "\n",
    "gen = list(range(180))\n",
    "dateDictionary = {'date':[],'weekNum':[],'weekDay':[],'dayType':[]}\n",
    "for i in range(180):\n",
    "    moveOn = datetime.timedelta(days = i)\n",
    "    dt = startDateTime + moveOn\n",
    "    dateDictionary['date'].append(dt)\n",
    "    dateDictionary['weekNum'].append(dt.isocalendar()[1])\n",
    "    dateDictionary['weekDay'].append(dt.isocalendar()[2])\n",
    "    if dt.isocalendar()[2] >=6:\n",
    "        dateDictionary['dayType'].append('节假日')\n",
    "    else:\n",
    "        dateDictionary['dayType'].append('工作日')\n",
    "dateDataFrame = pd.DataFrame(dateDictionary)"
   ]
  },
  {
   "cell_type": "code",
   "execution_count": null,
   "metadata": {
    "collapsed": true
   },
   "outputs": [],
   "source": [
    "dataSource = read_excel_workbook('/Volumes/Transcend/Blianlifeng/专题数据/果汁/datasource.xlsx')"
   ]
  },
  {
   "cell_type": "code",
   "execution_count": null,
   "metadata": {
    "collapsed": true
   },
   "outputs": [],
   "source": [
    "storeMapping = read_excel_workbook('/Volumes/Transcend/Blianlifeng/专题数据/果汁/store_Mapping.xlsx')\n",
    "skuMapping = read_excel_workbook('/Volumes/Transcend/Blianlifeng/专题数据/果汁/sku_Mapping.xlsx')"
   ]
  },
  {
   "cell_type": "code",
   "execution_count": null,
   "metadata": {
    "collapsed": true
   },
   "outputs": [],
   "source": [
    "storeMapping['上架日期'] = storeMapping['上架日期'].apply(ChangeDateFormat)\n",
    "storeMapping['下架日期'] = storeMapping['下架日期'].apply(ChangeDateFormat)\n",
    "dataSource['order_date'] = dataSource['order_date'].apply(ChangeDateFormat)"
   ]
  },
  {
   "cell_type": "code",
   "execution_count": null,
   "metadata": {
    "collapsed": true
   },
   "outputs": [],
   "source": [
    "dataSource = pd.merge(dataSource,dateDataFrame,how='inner',on=None,left_on='order_date',right_on='date')"
   ]
  },
  {
   "cell_type": "code",
   "execution_count": null,
   "metadata": {
    "collapsed": true
   },
   "outputs": [],
   "source": [
    "dataSource = pd.merge(dataSource,storeMapping[['store_code','批次']],how='inner',on='store_code')"
   ]
  },
  {
   "cell_type": "code",
   "execution_count": null,
   "metadata": {
    "collapsed": true
   },
   "outputs": [],
   "source": [
    "dataSource.drop(['type','date'],axis='columns',inplace=True)"
   ]
  },
  {
   "cell_type": "code",
   "execution_count": null,
   "metadata": {
    "collapsed": true
   },
   "outputs": [],
   "source": [
    "dateDataFrame.head()"
   ]
  },
  {
   "cell_type": "code",
   "execution_count": null,
   "metadata": {
    "collapsed": true
   },
   "outputs": [],
   "source": [
    "dataSource.head()"
   ]
  },
  {
   "cell_type": "code",
   "execution_count": null,
   "metadata": {
    "collapsed": true
   },
   "outputs": [],
   "source": [
    "storeMapping.head()"
   ]
  },
  {
   "cell_type": "code",
   "execution_count": null,
   "metadata": {
    "collapsed": true
   },
   "outputs": [],
   "source": [
    "store_count = []\n",
    "for i in dateDataFrame['date']:\n",
    "    c = len(storeMapping[(storeMapping['上架日期']<=i) & (storeMapping['下架日期']>=i)])\n",
    "    store_count.append(c)\n",
    "dateDataFrame['storeCount'] = store_count"
   ]
  },
  {
   "cell_type": "code",
   "execution_count": null,
   "metadata": {
    "collapsed": true,
    "scrolled": true
   },
   "outputs": [],
   "source": [
    "sum1 = dataSource[dataSource['dayType']=='工作日'][['cost_total','sku_cnt','payable_price_total']].groupby([dataSource['weekNum'],dataSource['order_date'],dataSource['sku_name']]).sum()\n",
    "sum1 = pd.merge(sum1.reset_index(),dateDataFrame[['date','storeCount']],how='inner',left_on='order_date',right_on='date')\n",
    "sum1['avgSkuCnt'] = sum1['sku_cnt']/sum1['storeCount']\n",
    "sum1['avgCost'] = sum1['cost_total']/sum1['storeCount']\n",
    "sum1['avgPayPriceTotal'] = sum1['payable_price_total']/sum1['storeCount']\n",
    "sum2 = sum1[['avgSkuCnt','avgPayPriceTotal','avgCost']].groupby([sum1['weekNum'],sum1['sku_name']]).mean()\n",
    "sum2['avgProfit'] = sum2['avgPayPriceTotal'] - sum2['avgCost']\n",
    "sum2['avgProfitRate'] = sum2['avgProfit']/sum2['avgPayPriceTotal']\n",
    "float_format = lambda x : '%.2f' % x\n",
    "percent_format = lambda x :'%.2f%%' % (x * 100)\n",
    "sum2[['avgSkuCnt','avgCost','avgPayPriceTotal','avgProfit']] = sum2[['avgSkuCnt','avgCost','avgPayPriceTotal','avgProfit']].applymap(float_format)\n",
    "sum2['avgProfitRate'] = sum2['avgProfitRate'].map(percent_format)\n",
    "sum2"
   ]
  },
  {
   "cell_type": "code",
   "execution_count": null,
   "metadata": {
    "collapsed": true
   },
   "outputs": [],
   "source": []
  }
 ],
 "metadata": {
  "kernelspec": {
   "display_name": "Python 3",
   "language": "python",
   "name": "python3"
  },
  "language_info": {
   "codemirror_mode": {
    "name": "ipython",
    "version": 3
   },
   "file_extension": ".py",
   "mimetype": "text/x-python",
   "name": "python",
   "nbconvert_exporter": "python",
   "pygments_lexer": "ipython3",
   "version": "3.6.2"
  }
 },
 "nbformat": 4,
 "nbformat_minor": 2
}
